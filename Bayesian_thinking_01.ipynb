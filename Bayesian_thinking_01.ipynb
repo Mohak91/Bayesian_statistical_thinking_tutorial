{
 "cells": [
  {
   "cell_type": "code",
   "execution_count": null,
   "metadata": {
    "id": "knEfmg3v3ul0"
   },
   "outputs": [],
   "source": [
    "library(dplyr)"
   ]
  },
  {
   "cell_type": "code",
   "execution_count": null,
   "metadata": {
    "id": "FYZpu2r735fz"
   },
   "outputs": [],
   "source": [
    "statistical_table <- data.frame(p=seq(.1,.9,by=.1),\n",
    "                                Prior=c(1,1,1,1,1,2,2,1,1))\n",
    "statistical_table"
   ]
  },
  {
   "cell_type": "code",
   "execution_count": null,
   "metadata": {
    "id": "GmiY7VUQ4Vir"
   },
   "outputs": [],
   "source": [
    "statistical_table %>% mutate( Prior = Prior / sum(Prior)) -> statistical_table\n",
    "statistical_table"
   ]
  },
  {
   "cell_type": "code",
   "execution_count": null,
   "metadata": {
    "id": "EjJt1k_F4xi5"
   },
   "outputs": [],
   "source": [
    "statistical_table$Likelihood <- dbinom(12, size=20, prob = statistical_table$p)\n",
    "statistical_table"
   ]
  },
  {
   "cell_type": "code",
   "execution_count": null,
   "metadata": {
    "id": "BjHg-J675WYa"
   },
   "outputs": [],
   "source": [
    "statistical_table$Product <- statistical_table$Prior * statistical_table$Likelihood\n",
    "statistical_table"
   ]
  },
  {
   "cell_type": "code",
   "execution_count": null,
   "metadata": {
    "id": "4jEx0AZ25l7l"
   },
   "outputs": [],
   "source": [
    "statistical_table$Posterior <- statistical_table$Product / sum(statistical_table$Prior * statistical_table$Likelihood)\n",
    "statistical_table"
   ]
  },
  {
   "cell_type": "code",
   "execution_count": null,
   "metadata": {
    "id": "1dpkS84b6S2U"
   },
   "outputs": [],
   "source": [
    "par(mfrow=c(1,3))\n",
    "\n",
    "barplot(statistical_table$Prior,\n",
    "        main=\"Prior distribution\",\n",
    "        xlab=\"Parameter values\",\n",
    "        ylab=\"Prior probability\",\n",
    "        names.arg=statistical_table$p,\n",
    "        col=\"darkred\",\n",
    "        horiz=FALSE)\n",
    "\n",
    "barplot(statistical_table$Likelihood,\n",
    "        main=\"Likelihood distribution\",\n",
    "        xlab=\"Parameter values\",\n",
    "        ylab=\"Likelihood\",\n",
    "        names.arg=statistical_table$p,\n",
    "        col=\"darkred\",\n",
    "        horiz=FALSE)\n",
    "\n",
    "barplot(statistical_table$Posterior,\n",
    "        main=\"Posterior distribution\",\n",
    "        xlab=\"Parameter values\",\n",
    "        ylab=\"Posterior probability\",\n",
    "        names.arg=statistical_table$p,\n",
    "        col=\"darkred\",\n",
    "        horiz=FALSE)"
   ]
  },
  {
   "cell_type": "markdown",
   "metadata": {
    "id": "hCeZw6SkHU_Q"
   },
   "source": [
    "Sampling from a posterior distribution:\n",
    "\n",
    "Markov chain monte carlo metropolis algorithm\n",
    "\n",
    "\n",
    "\n",
    "---\n",
    "\n",
    "**Markov chain**\n",
    "\n",
    "Monte Carlo\n",
    "\n",
    "Metropolis algorithm"
   ]
  },
  {
   "cell_type": "markdown",
   "metadata": {
    "id": "byZu7_-GMLAR"
   },
   "source": [
    "There are certain properties worth mentioning here with respect to a markov chain:\n",
    "\n",
    "**Irreducibility**: Given the Markov chain, the organism can transition from any given state to any other given state in one or more steps.\n",
    "\n",
    "**Periodicity**: The organism present in a given state can only come back to the given state in regular intervals. However, over here because the organism can undergo reverse metamorphosis in any direction, the Markov chain in our example is aperiodic.\n",
    "\n",
    "**Unique stationary distribution**: If a Markov chain is irreducible and aperiodic, as is the case here, it will have a unique stationary distribution i.e **as one takes infinite number of steps, the probability of transitioning to a given state does not depend on the initial state**."
   ]
  },
  {
   "cell_type": "code",
   "execution_count": null,
   "metadata": {
    "id": "_R7iv1hnI4B_"
   },
   "outputs": [],
   "source": [
    "p <- c(0, 1, 0, 0, 0)"
   ]
  },
  {
   "cell_type": "code",
   "execution_count": null,
   "metadata": {
    "id": "ZauoIqf1JAEk"
   },
   "outputs": [],
   "source": [
    "P <- matrix(c(.5, .5, 0, 0, 0,\n",
    "              .25, .5, .25, 0, 0,\n",
    "              0, .25, .5, .25, 0,\n",
    "              0, 0, .25, .5, .25,\n",
    "              0, 0, 0, .5, .5),\n",
    "            nrow=5, ncol=5, byrow=TRUE)\n",
    "P"
   ]
  },
  {
   "cell_type": "code",
   "execution_count": null,
   "metadata": {
    "id": "ECrztn_ZJJ_6"
   },
   "outputs": [],
   "source": [
    "print(p %*% P, digits = 5)"
   ]
  },
  {
   "cell_type": "code",
   "execution_count": null,
   "metadata": {
    "id": "bpGBwX2lJLaY"
   },
   "outputs": [],
   "source": [
    "print(p %*% P %*% P %*% P %*% P, digits = 5)"
   ]
  },
  {
   "cell_type": "code",
   "execution_count": null,
   "metadata": {
    "id": "VhipPyU2JRAg"
   },
   "outputs": [],
   "source": [
    "Pm <- diag(rep(1, 5))"
   ]
  },
  {
   "cell_type": "code",
   "execution_count": null,
   "metadata": {
    "id": "DO6MGT4aJS00"
   },
   "outputs": [],
   "source": [
    "for(j in 1:100){\n",
    "  Pm <- Pm %*% P\n",
    "}\n",
    "print(Pm, digits = 5)"
   ]
  },
  {
   "cell_type": "markdown",
   "metadata": {
    "id": "SSis-FQ_Jx5n"
   },
   "source": [
    "Sampling from a posterior distribution:\n",
    "\n",
    "Markov chain monte carlo metropolis algorithm\n",
    "\n",
    "\n",
    "---\n",
    "\n",
    "\n",
    "Markov chain\n",
    "\n",
    "**Monte Carlo**\n",
    "\n",
    "**Metropolis algorithm**"
   ]
  },
  {
   "cell_type": "markdown",
   "metadata": {
    "id": "1fYfyn_GLd_S"
   },
   "source": [
    "Metropolis algorithm allows one to simulate from the above probability distribution using a simple random walk:\n",
    "\n",
    "a) We start from any state the organism can be in, A to E.\n",
    "\n",
    "b) To decide which state the organism would take next, a fair coin is flipped. Let us say, if the coin flip lands up heads, we move one state to the left. If it lands up tails, we move one state to the right. This is called the candidate state.\n",
    "\n",
    "c) Next we calculate the ratio of the probabilities of the candidate state and the current state.\n",
    "\n",
    "    R = probability(candidate state) / probability(current state)\n",
    "\n",
    "d) Next we choose a number N between 0 and 1 at random. If N is smaller than R, we move to the candidate state, otherwise we remain at the current state."
   ]
  },
  {
   "cell_type": "code",
   "execution_count": null,
   "metadata": {
    "id": "ZU80t69rH2dq"
   },
   "outputs": [],
   "source": [
    "pd <- function(x){\n",
    "  values <- c(6, 12, 8, 12, 9)\n",
    "  ifelse(x %in% 1:length(values), values[x], 0)\n",
    "}\n",
    "\n",
    "pd"
   ]
  },
  {
   "cell_type": "code",
   "execution_count": null,
   "metadata": {
    "id": "pIER0S8BKH1C"
   },
   "outputs": [],
   "source": [
    "prob_dist <- data.frame(x = 1:5, \n",
    "                        prob = pd(1:5))\n",
    "prob_dist"
   ]
  },
  {
   "cell_type": "code",
   "execution_count": null,
   "metadata": {
    "id": "NSum55cWKKxT"
   },
   "outputs": [],
   "source": [
    "prob_dist$prob_norm <- prob_dist$prob/sum(prob_dist$prob)\n",
    "\n",
    "prob_dist"
   ]
  },
  {
   "cell_type": "code",
   "execution_count": null,
   "metadata": {
    "id": "hlNBirSsKQFL"
   },
   "outputs": [],
   "source": [
    "barplot(prob_dist$prob,\n",
    "        main = \"Probability distribution\",\n",
    "        xlab = \"State type\",\n",
    "        ylab = \"Probability\",\n",
    "        names.arg = c(\"A\",\"B\",\"C\",\"D\",\"E\"),\n",
    "        col = \"darkred\",\n",
    "        horiz = FALSE)"
   ]
  },
  {
   "cell_type": "code",
   "execution_count": null,
   "metadata": {
    "id": "oUs4XtC1KW9v"
   },
   "outputs": [],
   "source": [
    "random_walk <- function(pd, start, num_steps){\n",
    "  y <- rep(0, num_steps)\n",
    "  current <- start\n",
    "  for (j in 1:num_steps){\n",
    "    candidate <- current + sample(c(-1, 1), 1)\n",
    "    prob <- pd(candidate) / pd(current)\n",
    "    if (runif(1) < prob) current <- candidate\n",
    "    y[j] <- current\n",
    "  }\n",
    "  return(y)\n",
    "}"
   ]
  },
  {
   "cell_type": "code",
   "execution_count": null,
   "metadata": {
    "id": "smsaoRBjKgrl"
   },
   "outputs": [],
   "source": [
    "out <- random_walk(pd, 2, 10000)\n",
    "out"
   ]
  },
  {
   "cell_type": "code",
   "execution_count": null,
   "metadata": {
    "id": "ihcpaGsjKkQK"
   },
   "outputs": [],
   "source": [
    "data.frame(out) %>% group_by(out) %>% \n",
    "  summarize(N = n(), Prob = N / 10000) -> S\n",
    "\n",
    "S"
   ]
  },
  {
   "cell_type": "code",
   "execution_count": null,
   "metadata": {
    "id": "ru6C4P70KmLU"
   },
   "outputs": [],
   "source": [
    "barplot(S$Prob,\n",
    "        main = \"Probability distribution\",\n",
    "        xlab = \"State type\",\n",
    "        ylab = \"Probability\",\n",
    "        names.arg = c(\"A\",\"B\",\"C\",\"D\",\"E\"),\n",
    "        col = \"darkred\",\n",
    "        horiz = FALSE)"
   ]
  },
  {
   "cell_type": "code",
   "execution_count": null,
   "metadata": {
    "id": "q6ICQtg6KqxF"
   },
   "outputs": [],
   "source": [
    "actual_distribution <- prob_dist$prob_norm\n",
    "approximated_distribution <- S$Prob\n",
    "\n",
    "merged<-cbind(actual_distribution,approximated_distribution)\n",
    "\n",
    "merged"
   ]
  },
  {
   "cell_type": "code",
   "execution_count": null,
   "metadata": {
    "id": "nEibGaPaKxqh"
   },
   "outputs": [],
   "source": [
    "barplot(merged,beside=TRUE,col=\"darkred\")"
   ]
  }
 ],
 "metadata": {
  "colab": {
   "name": "Bayesian_thinking_01.ipynb",
   "provenance": []
  },
  "kernelspec": {
   "display_name": "R",
   "language": "R",
   "name": "ir"
  },
  "language_info": {
   "codemirror_mode": "r",
   "file_extension": ".r",
   "mimetype": "text/x-r-source",
   "name": "R",
   "pygments_lexer": "r",
   "version": "3.6.1"
  }
 },
 "nbformat": 4,
 "nbformat_minor": 1
}
