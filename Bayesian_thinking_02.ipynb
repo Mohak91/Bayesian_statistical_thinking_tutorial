{
 "cells": [
  {
   "cell_type": "code",
   "execution_count": null,
   "metadata": {
    "id": "ZQAMbQobs2mp"
   },
   "outputs": [],
   "source": [
    "import pymc3 as pm\n",
    "import numpy as np\n",
    "import matplotlib.pyplot as plt\n",
    "import seaborn as sns\n",
    "from sklearn.linear_model import LinearRegression"
   ]
  },
  {
   "cell_type": "markdown",
   "metadata": {
    "id": "mBxu7W3iun4C"
   },
   "source": [
    "Let us create some data to play with.\n",
    "\n",
    "\n",
    "\n",
    "---\n",
    "y = mx + c\n",
    "\n",
    "Let us add some noise:\n",
    "𝕪 = y + N(0,σ)\n"
   ]
  },
  {
   "cell_type": "code",
   "execution_count": null,
   "metadata": {
    "id": "tvlfvpgyv_n_"
   },
   "outputs": [],
   "source": [
    "true_slope = 10\n",
    "true_intercept = 20\n",
    "true_sigma = 2\n",
    "\n",
    "number_of_points = 200\n",
    "\n",
    "x_values = np.linspace(0, 1, number_of_points)\n",
    "true_y_values = true_slope * x_values + true_intercept\n",
    "y_values = true_y_values + np.random.normal(scale=true_sigma, size=number_of_points)\n",
    "\n",
    "true_parameters = {'slope': true_slope, 'intercept': true_intercept, 'sigma': true_sigma}"
   ]
  },
  {
   "cell_type": "code",
   "execution_count": null,
   "metadata": {
    "id": "DKQp4Cwu4fap"
   },
   "outputs": [],
   "source": [
    "plt.figure(figsize=(7,7))\n",
    "p1 = plt.scatter(x_values, y_values)\n",
    "p2, = plt.plot(x_values, true_y_values, color='r')\n",
    "plt.xlabel('x', fontsize=20)\n",
    "plt.ylabel('y', fontsize=20)\n",
    "plt.legend((p1, p2), ('samples', 'true line'), fontsize=18)"
   ]
  },
  {
   "cell_type": "markdown",
   "metadata": {
    "id": "IDje54gP73rV"
   },
   "source": [
    "Let us fit a non-bayesian linear model"
   ]
  },
  {
   "cell_type": "code",
   "execution_count": null,
   "metadata": {
    "id": "Mxnv5Im277ux"
   },
   "outputs": [],
   "source": [
    "regressor_function = LinearRegression()\n",
    "regressor_function.fit(x_values.reshape(-1,1), y_values)\n",
    "predictions = regressor_function.predict(x_values.reshape(-1,1))\n",
    "residuals = predictions - y_values\n",
    "\n",
    "print('True Model:')\n",
    "print('y_true = %s*x + %s'%(true_slope, true_intercept))\n",
    "print('True sigma: %s\\n'%true_parameters['sigma'])\n",
    "\n",
    "print('Estimated Model:')\n",
    "print('y_hat = %s*x + %s'%(regressor_function.coef_[0], regressor_function.intercept_))\n",
    "print('Sd Residuals: %s'%(residuals.std()))\n",
    "\n",
    "maximum_likelihood_estimates = {'slope': regressor_function.coef_[0], 'intercept': regressor_function.intercept_, 'sigma': residuals.std()} "
   ]
  },
  {
   "cell_type": "markdown",
   "metadata": {
    "id": "6C1zfPsj81et"
   },
   "source": [
    "Fitting bayesian model"
   ]
  },
  {
   "cell_type": "code",
   "execution_count": null,
   "metadata": {
    "id": "58Hc6Vzu8D56"
   },
   "outputs": [],
   "source": [
    "maximum_likelihood_estimates"
   ]
  },
  {
   "cell_type": "markdown",
   "metadata": {
    "id": "NbRzawKtQWe1"
   },
   "source": [
    "Setting Priors\n",
    "\n",
    "m ~ N(0,100), \n",
    "c ~ N(0,100), \n",
    "σ ~ Exp(1)"
   ]
  },
  {
   "cell_type": "markdown",
   "metadata": {
    "id": "QxZQz5PBRJPv"
   },
   "source": [
    "Likelihood\n",
    "\n",
    "y|m,c,σ ~ N(mx+c, σ)"
   ]
  },
  {
   "cell_type": "markdown",
   "metadata": {
    "id": "_soqHGhiRY2-"
   },
   "source": [
    "Posterior\n",
    "\n",
    "m,c,σ|y ~ ?\n",
    "\n",
    "p(m,c,σ|y) ∝ p(y|m,c,σ) x p(m) x p(c) x p(σ)"
   ]
  },
  {
   "cell_type": "code",
   "execution_count": null,
   "metadata": {
    "id": "0IifaCOQRYWT"
   },
   "outputs": [],
   "source": [
    "with pm.Model() as bayesian_regression_linear_model:\n",
    "    #priors\n",
    "    sigma = pm.Exponential(\"sigma\", lam=1.0)\n",
    "    intercept = pm.Normal(\"intercept\", mu=0, sigma=20)\n",
    "    slope = pm.Normal(\"slope\", mu=0, sigma=20)\n",
    "\n",
    "    #Likelihood\n",
    "    likelihood = pm.Normal(\"y\", mu=slope*x_values + intercept, sigma=sigma, observed=y_values)\n",
    "\n",
    "    #posterior\n",
    "    trace = pm.sample(10000, cores=4)"
   ]
  },
  {
   "cell_type": "code",
   "execution_count": null,
   "metadata": {
    "id": "CYffweDo86pC"
   },
   "outputs": [],
   "source": [
    "plt.figure(figsize=(7, 7))\n",
    "pm.traceplot(trace)\n",
    "plt.tight_layout()"
   ]
  },
  {
   "cell_type": "code",
   "execution_count": null,
   "metadata": {
    "id": "8vmrqFVmTpl-"
   },
   "outputs": [],
   "source": [
    "for parameter in ['slope', 'sigma', 'intercept']:\n",
    "    plt.figure(figsize=(10,4))\n",
    "    trace_values = trace.get_values(parameter)\n",
    "    mean, lower, upper = round(trace_values.mean(),2), round(trace_values.mean()-trace_values.std(),2), round(trace_values.mean()+trace_values.std(),2)\n",
    "    sns.distplot(trace_values)\n",
    "    posterior_estimate = plt.axvline(mean, color='b')\n",
    "    maximum_likelihood_estimate = plt.axvline(maximum_likelihood_estimates[parameter], color='b',linestyle=\"dotted\")\n",
    "    plt.axvline(lower, color='r', linestyle='--')\n",
    "    plt.axvline(upper, color='r', linestyle='--')\n",
    "    plt.title('%s [True = %s]\\nPosterior Mean: %s\\nBound: (%s, %s)'%(parameter,true_parameters[parameter],mean,lower,upper), fontsize=20)\n",
    "    true_values = plt.axvline(true_parameters[parameter], color='k')\n",
    "    \n",
    "    plt.legend((true_values, maximum_likelihood_estimate, posterior_estimate), ('true', 'MLE', 'Posterior Mean'), fontsize=18)\n",
    "     \n",
    "    plt.show()"
   ]
  }
 ],
 "metadata": {
  "colab": {
   "name": "Bayesian_thinking_02.ipynb",
   "provenance": []
  },
  "kernelspec": {
   "display_name": "Python 3 (ipykernel)",
   "language": "python",
   "name": "python3"
  },
  "language_info": {
   "codemirror_mode": {
    "name": "ipython",
    "version": 3
   },
   "file_extension": ".py",
   "mimetype": "text/x-python",
   "name": "python",
   "nbconvert_exporter": "python",
   "pygments_lexer": "ipython3",
   "version": "3.10.4"
  }
 },
 "nbformat": 4,
 "nbformat_minor": 1
}
